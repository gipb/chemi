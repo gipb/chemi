{
 "cells": [
  {
   "cell_type": "markdown",
   "metadata": {},
   "source": [
    "Preprocessing"
   ]
  },
  {
   "cell_type": "code",
   "execution_count": 1,
   "metadata": {},
   "outputs": [],
   "source": [
    "import pandas as pd\n",
    "import numpy as np\n",
    "import time\n",
    "from sklearn.metrics.pairwise import cosine_similarity"
   ]
  },
  {
   "cell_type": "code",
   "execution_count": 2,
   "metadata": {},
   "outputs": [],
   "source": [
    "user_list = pd.read_excel('taste.xlsx')"
   ]
  },
  {
   "cell_type": "markdown",
   "metadata": {},
   "source": [
    "----------------------------------------------------------------------"
   ]
  },
  {
   "cell_type": "markdown",
   "metadata": {},
   "source": [
    "Calculate user similarity between user taste"
   ]
  },
  {
   "cell_type": "code",
   "execution_count": 3,
   "metadata": {},
   "outputs": [],
   "source": [
    "class UserSimilarity:\n",
    "    def __init__(self, dataset):\n",
    "        self.dataset = dataset\n",
    "    \n",
    "    def cosweight(self, id_num):\n",
    "        table = self.dataset\n",
    "        columns = [1,2,3,4,5,6,7,8,9]\n",
    "        cos_sim = cosine_similarity(table[columns])\n",
    "        indices = pd.Series(range(len(table)), index = table.index).drop_duplicates()\n",
    "        idx = indices[id_num]\n",
    "        table['similarity'] = cos_sim[idx]\n",
    "        table = table[table.index != id_num]\n",
    "        table = table.sort_values(by='similarity',ascending=False)\n",
    "        \n",
    "        return table"
   ]
  },
  {
   "cell_type": "code",
   "execution_count": 4,
   "metadata": {},
   "outputs": [],
   "source": [
    "us = UserSimilarity(2*(user_list-0.5))"
   ]
  },
  {
   "cell_type": "code",
   "execution_count": 9,
   "metadata": {
    "scrolled": true
   },
   "outputs": [
    {
     "name": "stdout",
     "output_type": "stream",
     "text": [
      "Top 5 Similar User with User1123\n",
      "      similarity\n",
      "1337    0.777778\n",
      "444     0.777778\n",
      "840     0.777778\n",
      "1056    0.777778\n",
      "1185    0.777778\n"
     ]
    }
   ],
   "source": [
    "user_id = 1123\n",
    "\n",
    "print('Top 5 Similar User with User{:4d}'.format(user_id))\n",
    "print(us.cosweight(user_id).head().drop([1,2,3,4,5,6,7,8,9],axis=1))"
   ]
  },
  {
   "cell_type": "markdown",
   "metadata": {},
   "source": [
    "for user_id in range(len(user_list)):\n",
    "    if user_id%100==0:\n",
    "        user_sim_table = us.cosweight(user_id) \n",
    "        print('Top 5 Similar User with User {:4d}'.format(user_id))\n",
    "        print(\"\\tUser ID : \", list(user_sim_table.head().index), '\\n')"
   ]
  }
 ],
 "metadata": {
  "kernelspec": {
   "display_name": "Python 3",
   "language": "python",
   "name": "python3"
  },
  "language_info": {
   "codemirror_mode": {
    "name": "ipython",
    "version": 3
   },
   "file_extension": ".py",
   "mimetype": "text/x-python",
   "name": "python",
   "nbconvert_exporter": "python",
   "pygments_lexer": "ipython3",
   "version": "3.7.3"
  }
 },
 "nbformat": 4,
 "nbformat_minor": 2
}
