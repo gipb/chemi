{
 "cells": [
  {
   "cell_type": "markdown",
   "metadata": {},
   "source": [
    "Preprocessing"
   ]
  },
  {
   "cell_type": "code",
   "execution_count": null,
   "metadata": {},
   "outputs": [],
   "source": [
    "import xlrd\n",
    "import pandas as pd\n",
    "import numpy as np\n",
    "import string\n",
    "from konlpy.tag import Okt, Kkma\n",
    "from collections import Counter"
   ]
  },
  {
   "cell_type": "code",
   "execution_count": null,
   "metadata": {},
   "outputs": [],
   "source": [
    "df = pd.read_excel('Daily Q_Voice Record Script.xlsx')\n",
    "df = df.drop(['코딩자'], axis =1)\n",
    "df = df.dropna(axis = 0, how = 'all', subset = [1,2,3,4,5,6,7,8,9,10])\n",
    "df.fillna(' ', inplace = True)"
   ]
  },
  {
   "cell_type": "markdown",
   "metadata": {},
   "source": [
    "----------------------------------------------------------------------"
   ]
  },
  {
   "cell_type": "markdown",
   "metadata": {},
   "source": [
    "Calculate user similarity between user by daily question"
   ]
  },
  {
   "cell_type": "code",
   "execution_count": null,
   "metadata": {},
   "outputs": [],
   "source": [
    "okt = Okt()\n",
    "kkma = Kkma()"
   ]
  },
  {
   "cell_type": "code",
   "execution_count": null,
   "metadata": {},
   "outputs": [],
   "source": [
    "def WordSimilarity(lib, id_num, question_num):\n",
    "    \n",
    "    indices_list = pd.Series(range(len(df.index)),\n",
    "                        index = df['참가자 번호']).drop_duplicates()\n",
    "    indices_df = pd.Series(df.index, index = df['참가자 번호']).drop_duplicates()\n",
    "    idx_list = indices_list[id_num]\n",
    "    idx_df = indices_df[id_num]\n",
    "    \n",
    "    target_nouns = [(indices_df.index[i], lib.nouns(df[question_num][j])) \n",
    "                    for i, j in enumerate(indices_df)]\n",
    "    user_nouns = target_nouns[idx_list]\n",
    "    target_nouns = target_nouns[:idx_list] + target_nouns[idx_list+1:]\n",
    "    \n",
    "    inter_word, inter_list = CommonWordExtractor(user_nouns, target_nouns)\n",
    "    \n",
    "    #inter_list = sorted(inter_list, key=lambda x: x[1], reverse=True)\n",
    "    \n",
    "    return inter_word, inter_list\n",
    "    \n",
    "def CommonWordExtractor(user_nouns, target_nouns):\n",
    "\n",
    "    inter_list = []\n",
    "    inter_word = []\n",
    "    for id_num in range(len(target_nouns)):\n",
    "        intersec_count = Counter(user_nouns[1]) & Counter(target_nouns[id_num][1])\n",
    "        intersection = Counter()\n",
    "        for n, c in intersec_count.most_common(100):\n",
    "            dics = {'tag': n, 'count': c}\n",
    "            dicts = {n : c}\n",
    "            if len(dics['tag']) >= 2:\n",
    "                intersection.update(Counter(dicts))\n",
    "        inter_word.append(intersection)\n",
    "        inter_list.append((target_nouns[id_num][0], sum(intersection.values())))\n",
    "        \n",
    "    return inter_word, inter_list"
   ]
  },
  {
   "cell_type": "code",
   "execution_count": null,
   "metadata": {},
   "outputs": [],
   "source": [
    "User = 'P2'\n",
    "\n",
    "interword = []\n",
    "interlist = []\n",
    "for i in range(1,11):\n",
    "    interword += [WordSimilarity(okt, User, i)[0]]\n",
    "    interlist += [WordSimilarity(okt, User, i)[1]]"
   ]
  },
  {
   "cell_type": "code",
   "execution_count": null,
   "metadata": {
    "scrolled": true
   },
   "outputs": [],
   "source": [
    "totalinterlist = []\n",
    "for j in range(47):\n",
    "    _sum = 0\n",
    "    for i in range(10):\n",
    "        _sum += interlist[i][j][1]\n",
    "    totalinterlist.append((interlist[0][j][0], _sum))\n",
    "    \n",
    "totalinterlist = sorted(totalinterlist, key=lambda x: x[1], reverse=True)"
   ]
  },
  {
   "cell_type": "code",
   "execution_count": null,
   "metadata": {
    "scrolled": true
   },
   "outputs": [],
   "source": [
    "totalinterlist"
   ]
  },
  {
   "cell_type": "code",
   "execution_count": null,
   "metadata": {},
   "outputs": [],
   "source": []
  }
 ],
 "metadata": {
  "kernelspec": {
   "display_name": "Python 3",
   "language": "python",
   "name": "python3"
  },
  "language_info": {
   "codemirror_mode": {
    "name": "ipython",
    "version": 3
   },
   "file_extension": ".py",
   "mimetype": "text/x-python",
   "name": "python",
   "nbconvert_exporter": "python",
   "pygments_lexer": "ipython3",
   "version": "3.7.3"
  }
 },
 "nbformat": 4,
 "nbformat_minor": 2
}
