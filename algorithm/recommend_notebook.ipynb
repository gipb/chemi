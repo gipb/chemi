{
 "cells": [
  {
   "cell_type": "code",
   "execution_count": 1,
   "metadata": {},
   "outputs": [],
   "source": [
    "import sys\n",
    "import pymysql\n",
    "import numpy as np\n",
    "import pandas as pd\n",
    "from UserSimCalc import UserSimilarity\n",
    "\n",
    "#my_id = sys.argv\n",
    "my_id = 'yq6fpy4p7ykawp9'"
   ]
  },
  {
   "cell_type": "code",
   "execution_count": 2,
   "metadata": {
    "scrolled": true
   },
   "outputs": [],
   "source": [
    "conn = pymysql.connect(host='34.85.53.214',\n",
    "                       user='root',\n",
    "                       password='1234',\n",
    "                       charset='utf8')\n",
    "\n",
    "curs = conn.cursor(pymysql.cursors.DictCursor)\n",
    "\n",
    "sql = (\"select * from chemi.user_info \"\n",
    "       \"left join chemi_recommend.{} \".format(my_id) +\n",
    "       \"on chemi.user_info.id = chemi_recommend.{}.id \".format(my_id) +\n",
    "       \"where chemi_type_qa is not null\")\n",
    "curs.execute(sql)\n",
    "user_info = curs.fetchall()\n",
    "\n",
    "conn.close()"
   ]
  },
  {
   "cell_type": "code",
   "execution_count": 3,
   "metadata": {},
   "outputs": [],
   "source": [
    "user_table = pd.DataFrame.from_dict(user_info).set_index(['id'],drop = True)"
   ]
  },
  {
   "cell_type": "code",
   "execution_count": 4,
   "metadata": {},
   "outputs": [],
   "source": [
    "_dict = {}\n",
    "for info in user_info:\n",
    "    if info['id'] == my_id:\n",
    "        my_gender = info['gender']\n",
    "        my_local = info['local']\n",
    "        my_chemi_type = info['chemi_type_qa']\n",
    "    _list = []\n",
    "    for i in range(9):\n",
    "        _list.append(int(info['chemi_type_qa'][i]))\n",
    "    _dict['{}'.format(info['id'])] = _list"
   ]
  },
  {
   "cell_type": "code",
   "execution_count": 5,
   "metadata": {},
   "outputs": [
    {
     "data": {
      "text/plain": [
       "{'eftzc50lumfmff7': [0, 1, 0, 1, 0, 1, 0, 1, 0],\n",
       " 'sl4gyr0own4vza2': [1, 1, 1, 1, 0, 0, 0, 1, 0],\n",
       " 'tr45tga91o8349u': [0, 1, 0, 0, 1, 0, 0, 0, 0],\n",
       " 'yq6fpy4p7ykawp9': [1, 0, 1, 0, 1, 0, 0, 0, 1]}"
      ]
     },
     "execution_count": 5,
     "metadata": {},
     "output_type": "execute_result"
    }
   ],
   "source": [
    "_dict"
   ]
  },
  {
   "cell_type": "code",
   "execution_count": 6,
   "metadata": {},
   "outputs": [
    {
     "data": {
      "text/plain": [
       "Index(['tr45tga91o8349u', 'sl4gyr0own4vza2', 'eftzc50lumfmff7'], dtype='object')"
      ]
     },
     "execution_count": 6,
     "metadata": {},
     "output_type": "execute_result"
    }
   ],
   "source": [
    "recommend_table = pd.DataFrame.from_dict(_dict, orient = 'index',columns = [i for i in range(1,10)])\n",
    "user_sim = UserSimilarity(recommend_table-0.5)\n",
    "user_sim.cosweight(my_id).head().index"
   ]
  },
  {
   "cell_type": "code",
   "execution_count": 7,
   "metadata": {},
   "outputs": [
    {
     "data": {
      "text/html": [
       "<div>\n",
       "<style scoped>\n",
       "    .dataframe tbody tr th:only-of-type {\n",
       "        vertical-align: middle;\n",
       "    }\n",
       "\n",
       "    .dataframe tbody tr th {\n",
       "        vertical-align: top;\n",
       "    }\n",
       "\n",
       "    .dataframe thead th {\n",
       "        text-align: right;\n",
       "    }\n",
       "</style>\n",
       "<table border=\"1\" class=\"dataframe\">\n",
       "  <thead>\n",
       "    <tr style=\"text-align: right;\">\n",
       "      <th></th>\n",
       "      <th>1</th>\n",
       "      <th>2</th>\n",
       "      <th>3</th>\n",
       "      <th>4</th>\n",
       "      <th>5</th>\n",
       "      <th>6</th>\n",
       "      <th>7</th>\n",
       "      <th>8</th>\n",
       "      <th>9</th>\n",
       "      <th>similarity</th>\n",
       "    </tr>\n",
       "  </thead>\n",
       "  <tbody>\n",
       "    <tr>\n",
       "      <th>tr45tga91o8349u</th>\n",
       "      <td>-0.5</td>\n",
       "      <td>0.5</td>\n",
       "      <td>-0.5</td>\n",
       "      <td>-0.5</td>\n",
       "      <td>0.5</td>\n",
       "      <td>-0.5</td>\n",
       "      <td>-0.5</td>\n",
       "      <td>-0.5</td>\n",
       "      <td>-0.5</td>\n",
       "      <td>0.111111</td>\n",
       "    </tr>\n",
       "    <tr>\n",
       "      <th>sl4gyr0own4vza2</th>\n",
       "      <td>0.5</td>\n",
       "      <td>0.5</td>\n",
       "      <td>0.5</td>\n",
       "      <td>0.5</td>\n",
       "      <td>-0.5</td>\n",
       "      <td>-0.5</td>\n",
       "      <td>-0.5</td>\n",
       "      <td>0.5</td>\n",
       "      <td>-0.5</td>\n",
       "      <td>-0.111111</td>\n",
       "    </tr>\n",
       "    <tr>\n",
       "      <th>eftzc50lumfmff7</th>\n",
       "      <td>-0.5</td>\n",
       "      <td>0.5</td>\n",
       "      <td>-0.5</td>\n",
       "      <td>0.5</td>\n",
       "      <td>-0.5</td>\n",
       "      <td>0.5</td>\n",
       "      <td>-0.5</td>\n",
       "      <td>0.5</td>\n",
       "      <td>-0.5</td>\n",
       "      <td>-0.777778</td>\n",
       "    </tr>\n",
       "  </tbody>\n",
       "</table>\n",
       "</div>"
      ],
      "text/plain": [
       "                   1    2    3    4    5    6    7    8    9  similarity\n",
       "tr45tga91o8349u -0.5  0.5 -0.5 -0.5  0.5 -0.5 -0.5 -0.5 -0.5    0.111111\n",
       "sl4gyr0own4vza2  0.5  0.5  0.5  0.5 -0.5 -0.5 -0.5  0.5 -0.5   -0.111111\n",
       "eftzc50lumfmff7 -0.5  0.5 -0.5  0.5 -0.5  0.5 -0.5  0.5 -0.5   -0.777778"
      ]
     },
     "execution_count": 7,
     "metadata": {},
     "output_type": "execute_result"
    }
   ],
   "source": [
    "user_sim.cosweight(my_id)"
   ]
  },
  {
   "cell_type": "code",
   "execution_count": null,
   "metadata": {},
   "outputs": [],
   "source": []
  }
 ],
 "metadata": {
  "kernelspec": {
   "display_name": "quoka",
   "language": "python",
   "name": "quoka"
  },
  "language_info": {
   "codemirror_mode": {
    "name": "ipython",
    "version": 3
   },
   "file_extension": ".py",
   "mimetype": "text/x-python",
   "name": "python",
   "nbconvert_exporter": "python",
   "pygments_lexer": "ipython3",
   "version": "3.7.3"
  }
 },
 "nbformat": 4,
 "nbformat_minor": 2
}
